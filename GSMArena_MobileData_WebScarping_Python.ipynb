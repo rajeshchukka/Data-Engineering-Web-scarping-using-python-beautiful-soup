{
  "nbformat": 4,
  "nbformat_minor": 0,
  "metadata": {
    "colab": {
      "name": "GSMArena_MobileData_WebScarping_Python",
      "version": "0.3.2",
      "views": {},
      "default_view": {},
      "provenance": [],
      "collapsed_sections": []
    },
    "kernelspec": {
      "display_name": "Python 3",
      "language": "python",
      "name": "python3"
    }
  },
  "cells": [
    {
      "metadata": {
        "id": "yv9NvIW_hLji",
        "colab_type": "code",
        "colab": {
          "autoexec": {
            "startup": false,
            "wait_interval": 0
          },
          "base_uri": "https://localhost:8080/",
          "height": 34
        },
        "outputId": "3328a516-d3a1-46f8-c045-8d527bba377a",
        "executionInfo": {
          "status": "ok",
          "timestamp": 1532962924691,
          "user_tz": -330,
          "elapsed": 2977,
          "user": {
            "displayName": "",
            "photoUrl": "",
            "userId": ""
          }
        }
      },
      "cell_type": "code",
      "source": [
        "#importing Packages\n",
        "import bs4 as bs\n",
        "import urllib.request\n",
        "import pandas as pd\n",
        "import os\n",
        "import urllib.parse\n",
        "from fake_useragent import UserAgent\n",
        "import requests\n",
        "#path=r\"C:\\Users\\NANI\\Desktop\"\n",
        "#os.chdir(path)"
      ],
      "execution_count": 66,
      "outputs": [
        {
          "output_type": "stream",
          "text": [
            "Requirement already satisfied: fake-useragent in /usr/local/lib/python3.6/dist-packages (0.1.10)\r\n"
          ],
          "name": "stdout"
        }
      ]
    },
    {
      "metadata": {
        "id": "b4KvtUN37o6l",
        "colab_type": "code",
        "colab": {
          "autoexec": {
            "startup": false,
            "wait_interval": 0
          },
          "base_uri": "https://localhost:8080/",
          "height": 34
        },
        "outputId": "d58f5ec2-049f-4101-c092-297eae06c51f",
        "executionInfo": {
          "status": "ok",
          "timestamp": 1532965354957,
          "user_tz": -330,
          "elapsed": 2422,
          "user": {
            "displayName": "",
            "photoUrl": "",
            "userId": ""
          }
        }
      },
      "cell_type": "code",
      "source": [
        "source = urllib.request.urlopen('https://www.gsmarena.com/acer_dx650-9000.php').read()\n",
        "soup = bs.BeautifulSoup(source,'html5lib')\n",
        "container=soup.body.find_all('table')\n",
        "name=soup.body.find_all('h1')\n",
        "length_container=len(container)\n",
        "print(length_container)"
      ],
      "execution_count": 123,
      "outputs": [
        {
          "output_type": "stream",
          "text": [
            "14\n"
          ],
          "name": "stdout"
        }
      ]
    },
    {
      "metadata": {
        "id": "6PTqauVA70s0",
        "colab_type": "code",
        "colab": {
          "autoexec": {
            "startup": false,
            "wait_interval": 0
          },
          "base_uri": "https://localhost:8080/",
          "height": 3178
        },
        "outputId": "419f8c76-5d70-45b1-daba-c7a1142a2e06",
        "executionInfo": {
          "status": "ok",
          "timestamp": 1532965358216,
          "user_tz": -330,
          "elapsed": 1085,
          "user": {
            "displayName": "",
            "photoUrl": "",
            "userId": ""
          }
        }
      },
      "cell_type": "code",
      "source": [
        "for i in range(10):\n",
        "    print(container[i].text.strip())\n",
        "    \n",
        "    "
      ],
      "execution_count": 124,
      "outputs": [
        {
          "output_type": "stream",
          "text": [
            "Network\n",
            "Technology\n",
            "GSM / CDMA / HSPA / EVDO / LTE\n",
            "\n",
            "\n",
            "2G bands\n",
            "GSM 850 / 900 / 1800 / 1900 - SIM 1 & SIM 2 (dual-SIM model only)\n",
            "\n",
            " \n",
            "CDMA 800 / 1900 - USA\n",
            "\n",
            "\n",
            "3G bands\n",
            "HSDPA 850 / 900 / 1900 / 2100 - Europe, Brazil\n",
            "\n",
            "\n",
            " \n",
            "HSDPA 850 / 900 / 1700(AWS) / 1900 / 2100 - USA\n",
            "\n",
            "\n",
            " \n",
            "CDMA2000 1xEV-DO - USA\n",
            "\n",
            "\n",
            " \n",
            "HSDPA 850 / 900 / 1900 / 2100 / 800 - India\n",
            "\n",
            "\n",
            "4G bands\n",
            "LTE band 1(2100), 3(1800), 5(850), 7(2600), 8(900), 20(800), 38(2600) - Europe\n",
            "\n",
            "\n",
            " \n",
            "LTE band 1(2100), 2(1900), 3(1800), 4(1700/2100), 5(850), 7(2600), 8(900), 12(700), 13(700), 17(700), 20(800), 25(1900), 26(850), 28(700), 29(700), 30(2300), 38(2600), 41(2500), 66(1700/2100) - USA\n",
            "\n",
            "\n",
            " \n",
            "LTE band 1(2100), 3(1800), 5(850), 7(2600), 28(700) - Brazil\n",
            "\n",
            "\n",
            " \n",
            "LTE band 1(2100), 2(1900), 3(1800), 5(850), 7(2600), 8(900), 18(800), 19(800), 26(850), 28(700), 38(2600), 40(2300), 41(2500) - India\n",
            "\n",
            "\n",
            "Speed\n",
            "HSPA 42.2/5.76 Mbps, LTE Cat4 150/50 Mbps or LTE-A (2CA) Cat6 300/50 Mbps\n",
            "\n",
            "\t\n",
            "\n",
            "GPRS\n",
            "Yes\n",
            "\t\n",
            "\n",
            "EDGE\n",
            "Yes\n",
            "Launch\n",
            "Announced\n",
            "2018, April\n",
            "\t\n",
            "\n",
            "Status\n",
            "Available. Released 2018, April\n",
            "Body\n",
            "Dimensions\n",
            "153.8 x 72.3 x 8.3 mm (6.06 x 2.85 x 0.33 in)\n",
            "\n",
            "Weight\n",
            "167 g (5.89 oz)\n",
            "\n",
            "\n",
            "Build\n",
            "Front/back glass, aluminum frame\n",
            "\n",
            "\n",
            "SIM\n",
            "Single SIM (Nano-SIM) or Dual SIM (Nano-SIM, dual stand-by)\n",
            "\n",
            " - Splash resistant\n",
            "Display\n",
            "Type\n",
            "IPS LCD capacitive touchscreen, 16M colors\n",
            "\n",
            "\n",
            "Size\n",
            "5.7 inches, 83.8 cm2 (~75.4% screen-to-body ratio)\n",
            "\n",
            "\n",
            "Resolution\n",
            "1080 x 2160 pixels, 18:9 ratio (~424 ppi density)\n",
            "\n",
            "\n",
            "Multitouch\n",
            "Yes\n",
            "\n",
            "\n",
            "Protection\n",
            "Corning Gorilla Glass 3\n",
            "Platform\n",
            "OS\n",
            "Android 8.0 (Oreo)\n",
            "\n",
            "Chipset\n",
            "Qualcomm SDM450 Snapdragon 450\n",
            "\n",
            "CPU\n",
            "Octa-core 1.8 GHz Cortex-A53\n",
            "\n",
            "GPU\n",
            "Adreno 506\n",
            "Memory\n",
            "Card slot\n",
            "\n",
            "\n",
            "microSD, up to 256 GB\n",
            "\n",
            "\t\n",
            "\n",
            "\n",
            "Internal\n",
            "64 GB, 4 GB RAM or 32 GB, 3 GB RAM\n",
            "Main Camera\n",
            "\t\tDual\n",
            "\t12 MP, f/1.8, 1.4µm, PDAF\n",
            "5 MP, f/2.2, depth sensor\n",
            "\t\n",
            "\t\t\n",
            "\tFeatures\n",
            "\tDual-LED dual-tone flash, panorama, auto-HDR\n",
            "\t\n",
            "\t\t\n",
            "\tVideo\n",
            "\t1080p@60/30fps\n",
            "Selfie camera\n",
            "\t\tSingle\n",
            "\t8 MP or 16 MP, f/2.2\n",
            "\t\n",
            "\t\t\n",
            "\tFeatures\n",
            "\tLED flash\n",
            "\t\n",
            "\t\t\n",
            "\tVideo\n",
            "\t1080p@30fps\n",
            "Sound\n",
            "Alert types\n",
            "Vibration; MP3, WAV ringtones\n",
            "\t\n",
            "\t\n",
            "\n",
            "Loudspeaker \n",
            "Yes\n",
            "\n",
            "\n",
            "\n",
            "3.5mm jack \n",
            "Yes\n",
            "\n",
            "\t\n",
            "\n",
            " - Active noise cancellation with dedicated mic\n",
            "- Dolby Audio\n",
            "Comms\n",
            "WLAN\n",
            "Wi-Fi 802.11 a/b/g/n, dual-band, WiFi Direct, hotspot\n",
            "\n",
            "\n",
            "Bluetooth\n",
            "4.2, A2DP, LE, EDR\n",
            "\n",
            "\n",
            "GPS\n",
            "Yes, with A-GPS, GLONASS, BDS\n",
            "  \n",
            "\n",
            "NFC\n",
            "Yes (Europe model)\n",
            "\n",
            "\t\n",
            "\t\n",
            "\n",
            "Radio\n",
            "FM radio\n",
            "\n",
            "   \n",
            "\n",
            "USB\n",
            "2.0, Type-C 1.0 reversible connector\n"
          ],
          "name": "stdout"
        }
      ]
    },
    {
      "metadata": {
        "id": "5THxCQp08QLe",
        "colab_type": "code",
        "colab": {
          "autoexec": {
            "startup": false,
            "wait_interval": 0
          },
          "base_uri": "https://localhost:8080/",
          "height": 302
        },
        "outputId": "a05a17ac-5db7-414c-e470-0b57cdecfac0",
        "executionInfo": {
          "status": "ok",
          "timestamp": 1532965970072,
          "user_tz": -330,
          "elapsed": 1113,
          "user": {
            "displayName": "",
            "photoUrl": "",
            "userId": ""
          }
        }
      },
      "cell_type": "code",
      "source": [
        "print(soup.body.find_all('h1',{'data-spec':'modelname'})[0].text.strip())\n",
        "print(soup.body.find_all('img')[1]['src'])\n",
        "print(soup.body.find_all('span',{'data-spec':'released-hl'})[0].text.strip())\n",
        "print(soup.body.find_all('span',{'data-spec':'body-hl'})[0].text.strip())\n",
        "print(soup.body.find_all('span',{'data-spec':'os-hl'})[0].text.strip())\n",
        "print(soup.body.find_all('span',{'data-spec':'storage-hl'})[0].text.strip())\n",
        "print(soup.body.find_all('strong',{'class':'accent'})[4].text.strip())\n",
        "print(soup.body.find_all('span',{'data-spec':'displaysize-hl'})[0].text.strip())\n",
        "print(soup.body.find_all('strong',{'class':'accent'})[3].text.strip())\n",
        "print(soup.body.find_all('strong',{'class':'accent'})[5].text.strip())\n",
        "print(soup.body.find_all('div',{'data-spec':'battype-hl'})[0].text.strip())\n",
        "print(soup.body.find_all('div',{'data-spec':'chipset-hl'})[0].text.strip())\n",
        "print(soup.body.find_all('div',{'data-spec':'displayres-hl'})[0].text.strip())\n",
        "print(soup.body.find_all('div',{'data-spec':'videopixels-hl'})[0].text.strip())\n",
        "print(soup.body.find_all('a',{'class':'specs-fans'})[0].text.splitlines()[1].strip())\n",
        "print(soup.body.find_all('li',{'class':'light pattern help help-popularity'})[0].text.splitlines()[2].strip())\n",
        "print(soup.body.find_all('li',{'class':'light pattern help help-popularity'})[0].text.splitlines()[3].strip())\n"
      ],
      "execution_count": 145,
      "outputs": [
        {
          "output_type": "stream",
          "text": [
            "Motorola Moto G6\n",
            "https://cdn2.gsmarena.com/vv/bigpic/motorola-moto-g6-r1.jpg\n",
            "Released 2018, April\n",
            "167g, 8.3mm thickness\n",
            "Android 8.0\n",
            "64GB storage, microSD card slot\n",
            "4GB RAM\n",
            "5.7\"\n",
            "12MP\n",
            "3000mAh\n",
            "Li-Ion\n",
            "Snapdragon 450\n",
            "1080x2160 pixels\n",
            "1080p\n",
            "59\n",
            "8.6%\n",
            "1,065,768 hits\n"
          ],
          "name": "stdout"
        }
      ]
    },
    {
      "metadata": {
        "id": "7tOZDEr0z5Eg",
        "colab_type": "code",
        "colab": {
          "autoexec": {
            "startup": false,
            "wait_interval": 0
          }
        }
      },
      "cell_type": "code",
      "source": [
        ""
      ],
      "execution_count": 0,
      "outputs": []
    },
    {
      "metadata": {
        "id": "xdnuCDaZcMJz",
        "colab_type": "code",
        "colab": {
          "autoexec": {
            "startup": false,
            "wait_interval": 0
          },
          "base_uri": "https://localhost:8080/",
          "height": 67
        },
        "outputId": "ae055365-38c3-42c0-9c42-dd9044040462",
        "executionInfo": {
          "status": "ok",
          "timestamp": 1532965865875,
          "user_tz": -330,
          "elapsed": 1101,
          "user": {
            "displayName": "",
            "photoUrl": "",
            "userId": ""
          }
        }
      },
      "cell_type": "code",
      "source": [
        "print(soup.body.find_all('a',{'class':'specs-fans'})[0].text.splitlines()[1].strip())\n",
        "print(soup.body.find_all('li',{'class':'light pattern help help-popularity'})[0].text.splitlines()[2].strip())\n",
        "print(soup.body.find_all('li',{'class':'light pattern help help-popularity'})[0].text.splitlines()[3].strip())"
      ],
      "execution_count": 143,
      "outputs": [
        {
          "output_type": "stream",
          "text": [
            "59\n",
            "8.6%\n",
            "1,065,768 hits\n"
          ],
          "name": "stdout"
        }
      ]
    },
    {
      "metadata": {
        "id": "Sa2WMylMLiDC",
        "colab_type": "code",
        "colab": {
          "autoexec": {
            "startup": false,
            "wait_interval": 0
          }
        }
      },
      "cell_type": "code",
      "source": [
        "modelname=[]\n",
        "img=[]\n",
        "release=[]\n",
        "body=[]\n",
        "os=[]\n",
        "storage=[]\n",
        "display=[]\n",
        "battery=[]\n",
        "battery_type=[]\n",
        "chipset=[]\n",
        "displayres=[]\n",
        "videopixels=[]\n",
        "likes=[]\n",
        "popularity=[]\n",
        "User_hits=[]\n",
        "for j in range(9000,9010):\n",
        "        try:\n",
        "            ua = UserAgent()\n",
        "            #print(ua.chrome)\n",
        "            header = {'User-Agent':str(ua.chrome)}\n",
        "            #print(header)\n",
        "            url = 'https://www.gsmarena.com/acer_dx650-'+str(j)+'.php'\n",
        "            source = requests.get(url, headers=header)\n",
        "            soup = bs.BeautifulSoup(source.content,'html5lib')\n",
        "            container=soup.body.find_all('table')\n",
        "            #length_container=len(container)\n",
        "            #print(length_container)\n",
        "            modelname.append(soup.body.find_all('h1',{'data-spec':'modelname'})[0].text.strip())\n",
        "            img.append(soup.body.find_all('img')[1]['src'])\n",
        "            release.append(soup.body.find_all('span',{'data-spec':'released-hl'})[0].text.strip())\n",
        "            body.append(soup.body.find_all('span',{'data-spec':'body-hl'})[0].text.strip())\n",
        "            os.append(soup.body.find_all('span',{'data-spec':'os-hl'})[0].text.strip())\n",
        "            storage.append(soup.body.find_all('span',{'data-spec':'storage-hl'})[0].text.strip())\n",
        "            display.append(soup.body.find_all('span',{'data-spec':'displaysize-hl'})[0].text.strip())\n",
        "            #camera.append(soup.body.find_all('span',{'data-spec':'camerapixels-hl'})[0].text.strip())\n",
        "            battery.append(soup.body.find_all('span',{'data-spec':'batsize-hl'})[0].text.strip())\n",
        "            battery_type.append(soup.body.find_all('div',{'data-spec':'battype-hl'})[0].text.strip())\n",
        "            chipset.append(soup.body.find_all('div',{'data-spec':'chipset-hl'})[0].text.strip())\n",
        "            displayres.append(soup.body.find_all('div',{'data-spec':'displayres-hl'})[0].text.strip())\n",
        "            videopixels.append(soup.body.find_all('div',{'data-spec':'videopixels-hl'})[0].text.strip())\n",
        "            likes.append(soup.body.find_all('a',{'class':'specs-fans'})[0].text.splitlines()[1].strip())\n",
        "            popularity.append(soup.body.find_all('li',{'class':'light pattern help help-popularity'})[0].text.splitlines()[2].strip())\n",
        "            User_hits.append(soup.body.find_all('li',{'class':'light pattern help help-popularity'})[0].text.splitlines()[3].strip())\n",
        "        except Exception:\n",
        "              pass\n",
        "\n"
      ],
      "execution_count": 0,
      "outputs": []
    },
    {
      "metadata": {
        "id": "V-0fctTGuY0Y",
        "colab_type": "code",
        "colab": {
          "autoexec": {
            "startup": false,
            "wait_interval": 0
          }
        }
      },
      "cell_type": "code",
      "source": [
        ""
      ],
      "execution_count": 0,
      "outputs": []
    },
    {
      "metadata": {
        "id": "EzznUHk0ubuN",
        "colab_type": "code",
        "colab": {
          "autoexec": {
            "startup": false,
            "wait_interval": 0
          }
        }
      },
      "cell_type": "code",
      "source": [
        "GSMArena_MobileData=pd.DataFrame()\n",
        "GSMArena_MobileData['modelname']=pd.Series(modelname)\n",
        "GSMArena_MobileData['img']=pd.Series(img)\n",
        "GSMArena_MobileData['release']=pd.Series(release)\n",
        "GSMArena_MobileData['body']=pd.Series(body)\n",
        "GSMArena_MobileData['os']=pd.Series(os)\n",
        "GSMArena_MobileData['storage']=pd.Series(storage)\n",
        "GSMArena_MobileData['display']=pd.Series(display)\n",
        "#GSMArena_MobileData['camerapixels-hl']=pd.Series()\n",
        "GSMArena_MobileData['battery']=pd.Series(battery)\n",
        "GSMArena_MobileData['battery_type']=pd.Series(battery_type)\n",
        "GSMArena_MobileData['chipset']=pd.Series(chipset)\n",
        "GSMArena_MobileData['displayres']=pd.Series(displayres)\n",
        "GSMArena_MobileData['likes']=pd.Series(likes)\n",
        "GSMArena_MobileData['videopixels']=pd.Series(videopixels)\n",
        "GSMArena_MobileData['popularity']=pd.Series(popularity)\n",
        "GSMArena_MobileData['User_hits']=pd.Series(User_hits)"
      ],
      "execution_count": 0,
      "outputs": []
    },
    {
      "metadata": {
        "id": "BawFjEA9pOBT",
        "colab_type": "code",
        "colab": {
          "autoexec": {
            "startup": false,
            "wait_interval": 0
          },
          "base_uri": "https://localhost:8080/",
          "height": 867
        },
        "outputId": "e7e4cfee-b6b0-4f62-e08f-1da2c0043665",
        "executionInfo": {
          "status": "ok",
          "timestamp": 1532966305395,
          "user_tz": -330,
          "elapsed": 1130,
          "user": {
            "displayName": "",
            "photoUrl": "",
            "userId": ""
          }
        }
      },
      "cell_type": "code",
      "source": [
        "GSMArena_MobileData"
      ],
      "execution_count": 148,
      "outputs": [
        {
          "output_type": "execute_result",
          "data": {
            "text/html": [
              "<div>\n",
              "<style scoped>\n",
              "    .dataframe tbody tr th:only-of-type {\n",
              "        vertical-align: middle;\n",
              "    }\n",
              "\n",
              "    .dataframe tbody tr th {\n",
              "        vertical-align: top;\n",
              "    }\n",
              "\n",
              "    .dataframe thead th {\n",
              "        text-align: right;\n",
              "    }\n",
              "</style>\n",
              "<table border=\"1\" class=\"dataframe\">\n",
              "  <thead>\n",
              "    <tr style=\"text-align: right;\">\n",
              "      <th></th>\n",
              "      <th>modelname</th>\n",
              "      <th>img</th>\n",
              "      <th>release</th>\n",
              "      <th>body</th>\n",
              "      <th>os</th>\n",
              "      <th>storage</th>\n",
              "      <th>display</th>\n",
              "      <th>battery</th>\n",
              "      <th>battery_type</th>\n",
              "      <th>chipset</th>\n",
              "      <th>displayres</th>\n",
              "      <th>likes</th>\n",
              "      <th>videopixels</th>\n",
              "      <th>popularity</th>\n",
              "      <th>User_hits</th>\n",
              "    </tr>\n",
              "  </thead>\n",
              "  <tbody>\n",
              "    <tr>\n",
              "      <th>0</th>\n",
              "      <td>Motorola Moto G6</td>\n",
              "      <td>https://cdn2.gsmarena.com/vv/bigpic/motorola-m...</td>\n",
              "      <td>Released 2018, April</td>\n",
              "      <td>167g, 8.3mm thickness</td>\n",
              "      <td>Android 8.0</td>\n",
              "      <td>64GB storage, microSD card slot</td>\n",
              "      <td>5.7\"</td>\n",
              "      <td>3000</td>\n",
              "      <td>Li-Ion</td>\n",
              "      <td>Snapdragon 450</td>\n",
              "      <td>1080x2160 pixels</td>\n",
              "      <td>59</td>\n",
              "      <td>1080p</td>\n",
              "      <td>8.6%</td>\n",
              "      <td>1,065,868 hits</td>\n",
              "    </tr>\n",
              "    <tr>\n",
              "      <th>1</th>\n",
              "      <td>Motorola Moto G6 Plus</td>\n",
              "      <td>https://cdn2.gsmarena.com/vv/bigpic/motorola-m...</td>\n",
              "      <td>Released 2018, May</td>\n",
              "      <td>167g, 8mm thickness</td>\n",
              "      <td>Android 8.0</td>\n",
              "      <td>64/128GB storage, microSD card slot</td>\n",
              "      <td>5.9\"</td>\n",
              "      <td>3200</td>\n",
              "      <td>Li-Ion</td>\n",
              "      <td>Snapdragon 630</td>\n",
              "      <td>1080x2160 pixels</td>\n",
              "      <td>125</td>\n",
              "      <td>2160p</td>\n",
              "      <td>8.3%</td>\n",
              "      <td>1,842,177 hits</td>\n",
              "    </tr>\n",
              "    <tr>\n",
              "      <th>2</th>\n",
              "      <td>Motorola Moto G6 Play</td>\n",
              "      <td>https://cdn2.gsmarena.com/vv/bigpic/motorola-m...</td>\n",
              "      <td>Released 2018, May</td>\n",
              "      <td>175g, 9mm thickness</td>\n",
              "      <td>Android 8.0</td>\n",
              "      <td>32GB storage, microSD card slot</td>\n",
              "      <td>5.7\"</td>\n",
              "      <td>4000</td>\n",
              "      <td>Li-Ion</td>\n",
              "      <td>Snapdragon 430</td>\n",
              "      <td>720x1440 pixels</td>\n",
              "      <td>30</td>\n",
              "      <td>1080p</td>\n",
              "      <td>3.7%</td>\n",
              "      <td>577,818 hits</td>\n",
              "    </tr>\n",
              "    <tr>\n",
              "      <th>3</th>\n",
              "      <td>Motorola Moto Z3 Play</td>\n",
              "      <td>https://cdn2.gsmarena.com/vv/bigpic/motorola-m...</td>\n",
              "      <td>Released 2018, June</td>\n",
              "      <td>156g, 6.8mm thickness</td>\n",
              "      <td>Android 8.1</td>\n",
              "      <td>128GB storage, microSD card slot</td>\n",
              "      <td>6.01\"</td>\n",
              "      <td>3000</td>\n",
              "      <td>Li-Ion</td>\n",
              "      <td>Snapdragon 636</td>\n",
              "      <td>1080x2160 pixels</td>\n",
              "      <td>85</td>\n",
              "      <td>2160p</td>\n",
              "      <td>5.4%</td>\n",
              "      <td>690,582 hits</td>\n",
              "    </tr>\n",
              "    <tr>\n",
              "      <th>4</th>\n",
              "      <td>alcatel 3v</td>\n",
              "      <td>https://cdn2.gsmarena.com/vv/bigpic/alcatel-3v...</td>\n",
              "      <td>Released 2018, February</td>\n",
              "      <td>155g, 8.1mm thickness</td>\n",
              "      <td>Android 8.0</td>\n",
              "      <td>16/32GB storage, microSD card slot</td>\n",
              "      <td>6.0\"</td>\n",
              "      <td>3000</td>\n",
              "      <td>Li-Ion</td>\n",
              "      <td>MT8735A</td>\n",
              "      <td>1080x2160 pixels</td>\n",
              "      <td>16</td>\n",
              "      <td>1080p</td>\n",
              "      <td>0.7%</td>\n",
              "      <td>189,699 hits</td>\n",
              "    </tr>\n",
              "    <tr>\n",
              "      <th>5</th>\n",
              "      <td>vivo X20 Plus UD</td>\n",
              "      <td>https://cdn2.gsmarena.com/vv/bigpic/vivo-x20-p...</td>\n",
              "      <td>Released 2018, January</td>\n",
              "      <td>181.5g, 7.5mm thickness</td>\n",
              "      <td>Android 7.1.1</td>\n",
              "      <td>128GB storage, microSD card slot</td>\n",
              "      <td>6.43\"</td>\n",
              "      <td>3900</td>\n",
              "      <td>Li-Ion</td>\n",
              "      <td>Snapdragon 660</td>\n",
              "      <td>1080x2160 pixels</td>\n",
              "      <td>48</td>\n",
              "      <td>1080p</td>\n",
              "      <td>0.4%</td>\n",
              "      <td>382,448 hits</td>\n",
              "    </tr>\n",
              "    <tr>\n",
              "      <th>6</th>\n",
              "      <td>LG X4+</td>\n",
              "      <td>https://cdn2.gsmarena.com/vv/bigpic/lg-k10-201...</td>\n",
              "      <td>Released 2018, February</td>\n",
              "      <td>172.3g, 8.6mm thickness</td>\n",
              "      <td>Android 7.0</td>\n",
              "      <td>32GB storage, microSD card slot</td>\n",
              "      <td>5.3\"</td>\n",
              "      <td>3000</td>\n",
              "      <td>Li-Ion</td>\n",
              "      <td>Snapdragon 425</td>\n",
              "      <td>720x1280 pixels</td>\n",
              "      <td>6</td>\n",
              "      <td>1080p</td>\n",
              "      <td>0.1%</td>\n",
              "      <td>107,647 hits</td>\n",
              "    </tr>\n",
              "    <tr>\n",
              "      <th>7</th>\n",
              "      <td>BLU Studio View XL</td>\n",
              "      <td>https://cdn2.gsmarena.com/vv/bigpic/blu-sv-xl.jpg</td>\n",
              "      <td>Released 2018, January</td>\n",
              "      <td>174g, 9.3mm thickness</td>\n",
              "      <td>Android 7.0</td>\n",
              "      <td>16GB storage, microSD card slot</td>\n",
              "      <td>5.7\"</td>\n",
              "      <td>3000</td>\n",
              "      <td>Li-Po</td>\n",
              "      <td>MT6580</td>\n",
              "      <td>720x1440 pixels</td>\n",
              "      <td>3</td>\n",
              "      <td>1080p</td>\n",
              "      <td>N/A</td>\n",
              "      <td>32,229 hits</td>\n",
              "    </tr>\n",
              "    <tr>\n",
              "      <th>8</th>\n",
              "      <td>Motorola Moto E5</td>\n",
              "      <td>https://cdn2.gsmarena.com/vv/bigpic/motorola-m...</td>\n",
              "      <td>Released 2018, May</td>\n",
              "      <td>174g, 9mm thickness</td>\n",
              "      <td>Android 8.0</td>\n",
              "      <td>16GB storage, microSD card slot</td>\n",
              "      <td>5.7\"</td>\n",
              "      <td>4000</td>\n",
              "      <td>Li-Ion</td>\n",
              "      <td>Snapdragon 425</td>\n",
              "      <td>720x1440 pixels</td>\n",
              "      <td>14</td>\n",
              "      <td>1080p</td>\n",
              "      <td>2.5%</td>\n",
              "      <td>302,537 hits</td>\n",
              "    </tr>\n",
              "    <tr>\n",
              "      <th>9</th>\n",
              "      <td>Allview V3 Viper</td>\n",
              "      <td>https://cdn2.gsmarena.com/vv/bigpic/allview-v3...</td>\n",
              "      <td>Released 2018, February</td>\n",
              "      <td>143.6g, 8.1mm thickness</td>\n",
              "      <td>Android 8.0</td>\n",
              "      <td>32GB storage, microSD card slot</td>\n",
              "      <td>5.5\"</td>\n",
              "      <td>3000</td>\n",
              "      <td>Li-Po</td>\n",
              "      <td>MT6737</td>\n",
              "      <td>720x1440 pixels</td>\n",
              "      <td>2</td>\n",
              "      <td>1080p</td>\n",
              "      <td>N/A</td>\n",
              "      <td>18,915 hits</td>\n",
              "    </tr>\n",
              "  </tbody>\n",
              "</table>\n",
              "</div>"
            ],
            "text/plain": [
              "               modelname                                                img  \\\n",
              "0       Motorola Moto G6  https://cdn2.gsmarena.com/vv/bigpic/motorola-m...   \n",
              "1  Motorola Moto G6 Plus  https://cdn2.gsmarena.com/vv/bigpic/motorola-m...   \n",
              "2  Motorola Moto G6 Play  https://cdn2.gsmarena.com/vv/bigpic/motorola-m...   \n",
              "3  Motorola Moto Z3 Play  https://cdn2.gsmarena.com/vv/bigpic/motorola-m...   \n",
              "4             alcatel 3v  https://cdn2.gsmarena.com/vv/bigpic/alcatel-3v...   \n",
              "5       vivo X20 Plus UD  https://cdn2.gsmarena.com/vv/bigpic/vivo-x20-p...   \n",
              "6                 LG X4+  https://cdn2.gsmarena.com/vv/bigpic/lg-k10-201...   \n",
              "7     BLU Studio View XL  https://cdn2.gsmarena.com/vv/bigpic/blu-sv-xl.jpg   \n",
              "8       Motorola Moto E5  https://cdn2.gsmarena.com/vv/bigpic/motorola-m...   \n",
              "9       Allview V3 Viper  https://cdn2.gsmarena.com/vv/bigpic/allview-v3...   \n",
              "\n",
              "                   release                     body             os  \\\n",
              "0     Released 2018, April    167g, 8.3mm thickness    Android 8.0   \n",
              "1       Released 2018, May      167g, 8mm thickness    Android 8.0   \n",
              "2       Released 2018, May      175g, 9mm thickness    Android 8.0   \n",
              "3      Released 2018, June    156g, 6.8mm thickness    Android 8.1   \n",
              "4  Released 2018, February    155g, 8.1mm thickness    Android 8.0   \n",
              "5   Released 2018, January  181.5g, 7.5mm thickness  Android 7.1.1   \n",
              "6  Released 2018, February  172.3g, 8.6mm thickness    Android 7.0   \n",
              "7   Released 2018, January    174g, 9.3mm thickness    Android 7.0   \n",
              "8       Released 2018, May      174g, 9mm thickness    Android 8.0   \n",
              "9  Released 2018, February  143.6g, 8.1mm thickness    Android 8.0   \n",
              "\n",
              "                               storage display battery battery_type  \\\n",
              "0      64GB storage, microSD card slot    5.7\"    3000       Li-Ion   \n",
              "1  64/128GB storage, microSD card slot    5.9\"    3200       Li-Ion   \n",
              "2      32GB storage, microSD card slot    5.7\"    4000       Li-Ion   \n",
              "3     128GB storage, microSD card slot   6.01\"    3000       Li-Ion   \n",
              "4   16/32GB storage, microSD card slot    6.0\"    3000       Li-Ion   \n",
              "5     128GB storage, microSD card slot   6.43\"    3900       Li-Ion   \n",
              "6      32GB storage, microSD card slot    5.3\"    3000       Li-Ion   \n",
              "7      16GB storage, microSD card slot    5.7\"    3000        Li-Po   \n",
              "8      16GB storage, microSD card slot    5.7\"    4000       Li-Ion   \n",
              "9      32GB storage, microSD card slot    5.5\"    3000        Li-Po   \n",
              "\n",
              "          chipset        displayres likes videopixels popularity  \\\n",
              "0  Snapdragon 450  1080x2160 pixels    59       1080p       8.6%   \n",
              "1  Snapdragon 630  1080x2160 pixels   125       2160p       8.3%   \n",
              "2  Snapdragon 430   720x1440 pixels    30       1080p       3.7%   \n",
              "3  Snapdragon 636  1080x2160 pixels    85       2160p       5.4%   \n",
              "4         MT8735A  1080x2160 pixels    16       1080p       0.7%   \n",
              "5  Snapdragon 660  1080x2160 pixels    48       1080p       0.4%   \n",
              "6  Snapdragon 425   720x1280 pixels     6       1080p       0.1%   \n",
              "7          MT6580   720x1440 pixels     3       1080p        N/A   \n",
              "8  Snapdragon 425   720x1440 pixels    14       1080p       2.5%   \n",
              "9          MT6737   720x1440 pixels     2       1080p        N/A   \n",
              "\n",
              "        User_hits  \n",
              "0  1,065,868 hits  \n",
              "1  1,842,177 hits  \n",
              "2    577,818 hits  \n",
              "3    690,582 hits  \n",
              "4    189,699 hits  \n",
              "5    382,448 hits  \n",
              "6    107,647 hits  \n",
              "7     32,229 hits  \n",
              "8    302,537 hits  \n",
              "9     18,915 hits  "
            ]
          },
          "metadata": {
            "tags": []
          },
          "execution_count": 148
        }
      ]
    },
    {
      "metadata": {
        "id": "XKtD8nCWoz_q",
        "colab_type": "code",
        "colab": {
          "autoexec": {
            "startup": false,
            "wait_interval": 0
          }
        }
      },
      "cell_type": "code",
      "source": [
        "GSMArena_MobileData.to_csv('GSMArena_MobileData.csv', encoding='utf-8', index=False)"
      ],
      "execution_count": 0,
      "outputs": []
    },
    {
      "metadata": {
        "id": "1R0lP258mo6D",
        "colab_type": "code",
        "colab": {
          "autoexec": {
            "startup": false,
            "wait_interval": 0
          }
        }
      },
      "cell_type": "code",
      "source": [
        "from google.colab import files\n",
        "files.download('GSMArena_MobileData.csv')"
      ],
      "execution_count": 0,
      "outputs": []
    },
    {
      "metadata": {
        "id": "eZwdu4l4qZ5w",
        "colab_type": "code",
        "colab": {
          "autoexec": {
            "startup": false,
            "wait_interval": 0
          }
        }
      },
      "cell_type": "code",
      "source": [
        ""
      ],
      "execution_count": 0,
      "outputs": []
    }
  ]
}