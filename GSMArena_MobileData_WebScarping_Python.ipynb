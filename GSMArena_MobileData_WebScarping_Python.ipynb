{
  "nbformat": 4,
  "nbformat_minor": 0,
  "metadata": {
    "colab": {
      "name": "GSMArena_MobileData_WebScarping_Python",
      "version": "0.3.2",
      "views": {},
      "default_view": {},
      "provenance": [],
      "collapsed_sections": []
    },
    "kernelspec": {
      "name": "python3",
      "display_name": "Python 3"
    }
  },
  "cells": [
    {
      "metadata": {
        "id": "yv9NvIW_hLji",
        "colab_type": "code",
        "colab": {
          "autoexec": {
            "startup": false,
            "wait_interval": 0
          }
        }
      },
      "cell_type": "code",
      "source": [
        "#importing Packages\n",
        "import bs4 as bs\n",
        "import urllib.request\n",
        "import pandas as pd\n",
        "import os\n",
        "import urllib.parse\n",
        "#path=r\"C:\\Users\\rchukka\\Desktop\\Rajesh\\MachineHack\"\n",
        "#os.chdir(path)"
      ],
      "execution_count": 0,
      "outputs": []
    },
    {
      "metadata": {
        "id": "b4KvtUN37o6l",
        "colab_type": "code",
        "colab": {
          "autoexec": {
            "startup": false,
            "wait_interval": 0
          },
          "base_uri": "https://localhost:8080/",
          "height": 33
        },
        "outputId": "7143941c-9f09-4478-9c84-6ae3ed49dc30",
        "executionInfo": {
          "status": "ok",
          "timestamp": 1532870428237,
          "user_tz": -330,
          "elapsed": 1926,
          "user": {
            "displayName": "Rajesh Chukka",
            "photoUrl": "//lh6.googleusercontent.com/-hlgl83Z67p0/AAAAAAAAAAI/AAAAAAAAAMI/-xPDUeCBKZA/s50-c-k-no/photo.jpg",
            "userId": "113199764277224827811"
          }
        }
      },
      "cell_type": "code",
      "source": [
        "source = urllib.request.urlopen('https://www.gsmarena.com/acer_dx650-6.php').read()\n",
        "soup = bs.BeautifulSoup(source,'html5lib')\n",
        "container=soup.body.find_all('table')\n",
        "name=soup.body.find_all('h1')\n",
        "length_container=len(container)\n",
        "print(length_container)"
      ],
      "execution_count": 54,
      "outputs": [
        {
          "output_type": "stream",
          "text": [
            "11\n"
          ],
          "name": "stdout"
        }
      ]
    },
    {
      "metadata": {
        "id": "6PTqauVA70s0",
        "colab_type": "code",
        "colab": {
          "autoexec": {
            "startup": false,
            "wait_interval": 0
          },
          "base_uri": "https://localhost:8080/",
          "height": 2333
        },
        "outputId": "9b274393-e5a9-4ee4-b68a-41c63037f9ed",
        "executionInfo": {
          "status": "ok",
          "timestamp": 1532868003667,
          "user_tz": -330,
          "elapsed": 1121,
          "user": {
            "displayName": "Rajesh Chukka",
            "photoUrl": "//lh6.googleusercontent.com/-hlgl83Z67p0/AAAAAAAAAAI/AAAAAAAAAMI/-xPDUeCBKZA/s50-c-k-no/photo.jpg",
            "userId": "113199764277224827811"
          }
        }
      },
      "cell_type": "code",
      "source": [
        "for i in range(10):\n",
        "    print(container[i].text.strip())\n",
        "    \n",
        "    "
      ],
      "execution_count": 23,
      "outputs": [
        {
          "output_type": "stream",
          "text": [
            "Network\n",
            "Technology\n",
            "GSM\n",
            "\n",
            "\n",
            "2G bands\n",
            "GSM 900 / 1800 \n",
            "\t\n",
            "\n",
            "GPRS\n",
            "No\n",
            "\t\n",
            "\n",
            "EDGE\n",
            "No\n",
            "Launch\n",
            "Announced\n",
            "1999\n",
            "\t\n",
            "\n",
            "Status\n",
            "Discontinued\n",
            "Body\n",
            "Dimensions\n",
            "123.8 x 50.5 x 16.7-22.5 mm\n",
            "\n",
            "Weight\n",
            "151 g (5.33 oz)\n",
            "\n",
            "\n",
            "SIM\n",
            "Mini-SIM\n",
            "Display\n",
            "Type\n",
            "Monochrome graphic\n",
            "\n",
            "\n",
            "Size\n",
            "\n",
            "\n",
            "\n",
            "Resolution\n",
            "5 lines\n",
            "\n",
            " - Dynamic font size\n",
            "- Softkey\n",
            "- Welcome message\n",
            "Memory\n",
            "Card slot\n",
            "\n",
            "\n",
            "No\n",
            "\n",
            "\n",
            "Phonebook\n",
            "SIM only\n",
            "\n",
            "\n",
            "Call records\n",
            "8 dialed, 8 received, 8 missed calls\n",
            "Camera\n",
            "\t \n",
            "\tNo\n",
            "Sound\n",
            "Alert types\n",
            "Downloadable monophonic ringtones, composer\n",
            "\t\n",
            "\t\n",
            "\n",
            "Loudspeaker \n",
            "No\n",
            "\n",
            "\n",
            "\n",
            "3.5mm jack \n",
            "No\n",
            "\n",
            "\t\n",
            "\n",
            " - 6 Ringing tone levels\n",
            "- 10 Volume levels\n",
            "Comms\n",
            "WLAN\n",
            "No\n",
            "\n",
            "\n",
            "Bluetooth\n",
            "No\n",
            "\n",
            "\n",
            "GPS\n",
            "No\n",
            "  \n",
            "\t\n",
            "\t\n",
            "\n",
            "Radio\n",
            "No\n",
            "\n",
            "   \n",
            "\n",
            "USB\n",
            "Features\n",
            "Messaging\n",
            "SMS\n",
            "\n",
            "Browser\n",
            "\n",
            "\n",
            "Clock\n",
            "Yes\n",
            "\n",
            "Alarm\n",
            "Yes\n",
            "\n",
            "\t \n",
            "\n",
            "Games\n",
            "Rotation, Snake, and Memory\n",
            "\n",
            " \t\n",
            "\n",
            "\n",
            "Languages\n",
            "11 from 35 total\n",
            "\n",
            " \t\n",
            "\t\n",
            "\n",
            "Java\n",
            "No\n",
            "\n",
            " \t\n",
            " - Predictive text input\n",
            "- Smart messaging (Over the Air SMS) \n",
            "- Calculator\n",
            "Battery\n",
            " \n",
            "Removable Li-Ion battery\n"
          ],
          "name": "stdout"
        }
      ]
    },
    {
      "metadata": {
        "id": "5THxCQp08QLe",
        "colab_type": "code",
        "colab": {
          "autoexec": {
            "startup": false,
            "wait_interval": 0
          },
          "base_uri": "https://localhost:8080/",
          "height": 466
        },
        "outputId": "68c1a0b8-3ebd-480a-c143-1c4a31c970b6",
        "executionInfo": {
          "status": "ok",
          "timestamp": 1532870467152,
          "user_tz": -330,
          "elapsed": 918,
          "user": {
            "displayName": "Rajesh Chukka",
            "photoUrl": "//lh6.googleusercontent.com/-hlgl83Z67p0/AAAAAAAAAAI/AAAAAAAAAMI/-xPDUeCBKZA/s50-c-k-no/photo.jpg",
            "userId": "113199764277224827811"
          }
        }
      },
      "cell_type": "code",
      "source": [
        "print(soup.body.find_all('h1',{'data-spec':'modelname'})[0].text)\n",
        "print(container[0].find_all('a',{'class':'link-network-detail'})[0].text)\n",
        "print(container[0].find_all('td',{'data-spec':'net2g'})[0].text)\n",
        "print(container[0].find_all('td',{'data-spec':'gprstext'})[0].text)\n",
        "print(container[0].find_all('td',{'data-spec':'edge'})[0].text)\n",
        "print(container[1].find_all('td',{'data-spec':'year'})[0].text)\n",
        "print(container[1].find_all('td',{'data-spec':'status'})[0].text)\n",
        "print(container[2].find_all('td',{'data-spec':'dimensions'})[0].text)\n",
        "print(container[2].find_all('td',{'data-spec':'weight'})[0].text)\n",
        "print(container[2].find_all('td',{'data-spec':'sim'})[0].text)\n",
        "print(container[3].find_all('td',{'data-spec':'displaytype'})[0].text)\n",
        "print(container[3].find_all('td',{'data-spec':'displaysize'})[0].text)\n",
        "print(container[3].find_all('td',{'data-spec':'displayresolution'})[0].text)\n",
        "print(container[4].find_all('td',{'data-spec':'memoryslot'})[0].text)\n",
        "print(container[5].find_all('td',{'data-spec':'cam1modules'})[0].text)\n",
        "print(container[7].find_all('td',{'data-spec':'wlan'})[0].text)\n",
        "print(container[7].find_all('td',{'data-spec':'bluetooth'})[0].text)\n",
        "print(container[7].find_all('td',{'data-spec':'gps'})[0].text)\n",
        "print(container[7].find_all('td',{'data-spec':'radio'})[0].text)\n",
        "print(container[7].find_all('td',{'data-spec':'usb'})[0].text)\n",
        "print(container[8].find_all('td',{'data-spec':'featuresother'})[0].text)\n",
        "print(container[6].find_all('td',{'data-spec':'optionalother'})[0].text)\n",
        "print(container[9].find_all('td',{'data-spec':'batdescription1'})[0].text)\n",
        "print(container[10].find_all('td',{'data-spec':'colors'})[0].text)\n"
      ],
      "execution_count": 55,
      "outputs": [
        {
          "output_type": "stream",
          "text": [
            "Nokia 3210\n",
            "GSM\n",
            "GSM 900 / 1800 \n",
            "No\n",
            "No\n",
            "1999\n",
            "Discontinued\n",
            "123.8 x 50.5 x 16.7-22.5 mm\n",
            "151 g (5.33 oz)\n",
            "Mini-SIM\n",
            "Monochrome graphic\n",
            "\n",
            "5 lines\n",
            "No\n",
            "No\n",
            "No\n",
            "No\n",
            "No\n",
            "No\n",
            "\n",
            "- Predictive text input\n",
            "- Smart messaging (Over the Air SMS) \n",
            "- Calculator\n",
            "- 6 Ringing tone levels\n",
            "- 10 Volume levels\n",
            "Removable Li-Ion battery\n",
            "User exchangeable front and back covers\n"
          ],
          "name": "stdout"
        }
      ]
    },
    {
      "metadata": {
        "id": "Sa2WMylMLiDC",
        "colab_type": "code",
        "colab": {
          "autoexec": {
            "startup": false,
            "wait_interval": 0
          }
        }
      },
      "cell_type": "code",
      "source": [
        "modelname=[]\n",
        "link=[]\n",
        "net2g=[]\n",
        "gprstext=[]\n",
        "edge=[]\n",
        "year=[]\n",
        "status=[]\n",
        "dimensions=[]\n",
        "weight=[]\n",
        "sim=[]\n",
        "displaytype=[]\n",
        "displaysize=[]\n",
        "displayresolution=[]\n",
        "memoryslot=[]\n",
        "cam1modules=[]\n",
        "wlan=[]\n",
        "bluetooth=[]\n",
        "gps=[]\n",
        "radio=[]\n",
        "usb=[]\n",
        "featuresother=[]\n",
        "optionalother=[]\n",
        "batdescription1=[]\n",
        "colors=[]\n",
        "try:\n",
        "    #for j in range(100,2000):\n",
        "    j=102\n",
        "    source = urllib.request.urlopen('https://www.gsmarena.com/acer_dx650-'+str(j)+'.php').read()\n",
        "    #source = urllib.request.urlopen('https://www.gsmarena.com/acer_dx650-100.php').read()\n",
        "    soup = bs.BeautifulSoup(source,'html5lib')\n",
        "    container=soup.body.find_all('table')\n",
        "    length_container=len(container)\n",
        "    #print(length_container)\n",
        "    modelname.append(soup.body.find_all('h1',{'data-spec':'modelname'})[0].text)\n",
        "    link.append(container[0].find_all('td',{'data-spec':'net2g'})[0].text)\n",
        "    gprstext.append(container[0].find_all('td',{'data-spec':'gprstext'})[0].text)\n",
        "    edge.append(container[0].find_all('td',{'data-spec':'edge'})[0].text)\n",
        "    year.append(container[1].find_all('td',{'data-spec':'year'})[0].text)\n",
        "    status.append(container[1].find_all('td',{'data-spec':'status'})[0].text)\n",
        "    dimensions.append(container[2].find_all('td',{'data-spec':'dimensions'})[0].text)\n",
        "    weight.append(container[2].find_all('td',{'data-spec':'weight'})[0].text)\n",
        "    sim.append(container[2].find_all('td',{'data-spec':'sim'})[0].text)\n",
        "    displaytype.append(container[3].find_all('td',{'data-spec':'displaytype'})[0].text)\n",
        "    displaysize.append(container[3].find_all('td',{'data-spec':'displaysize'})[0].text)\n",
        "    displayresolution.append(container[3].find_all('td',{'data-spec':'displayresolution'})[0].text)\n",
        "    memoryslot.append(container[4].find_all('td',{'data-spec':'memoryslot'})[0].text)\n",
        "    cam1modules.append(container[5].find_all('td',{'data-spec':'cam1modules'})[0].text)\n",
        "    wlan.append(container[7].find_all('td',{'data-spec':'wlan'})[0].text)\n",
        "    bluetooth.append(container[7].find_all('td',{'data-spec':'bluetooth'})[0].text)\n",
        "    gps.append(container[7].find_all('td',{'data-spec':'gps'})[0].text)\n",
        "    radio.append(container[7].find_all('td',{'data-spec':'radio'})[0].text)\n",
        "    usb.append(container[7].find_all('td',{'data-spec':'usb'})[0].text)\n",
        "    featuresother.append(container[8].find_all('td',{'data-spec':'featuresother'})[0].text)\n",
        "    optionalother.append(container[6].find_all('td',{'data-spec':'optionalother'})[0].text)\n",
        "    batdescription1.append(container[9].find_all('td',{'data-spec':'batdescription1'})[0].text)\n",
        "    colors.append(container[10].find_all('td',{'data-spec':'colors'})[0].text)\n",
        "except (IndexError,urllib.request.HTTPError):\n",
        "   pass\n"
      ],
      "execution_count": 0,
      "outputs": []
    },
    {
      "metadata": {
        "id": "EzznUHk0ubuN",
        "colab_type": "code",
        "colab": {
          "autoexec": {
            "startup": false,
            "wait_interval": 0
          },
          "base_uri": "https://localhost:8080/",
          "height": 176
        },
        "outputId": "79e366ea-da79-408a-d3c7-4db1212084ba",
        "executionInfo": {
          "status": "ok",
          "timestamp": 1532880901473,
          "user_tz": -330,
          "elapsed": 914,
          "user": {
            "displayName": "Rajesh Chukka",
            "photoUrl": "//lh6.googleusercontent.com/-hlgl83Z67p0/AAAAAAAAAAI/AAAAAAAAAMI/-xPDUeCBKZA/s50-c-k-no/photo.jpg",
            "userId": "113199764277224827811"
          }
        }
      },
      "cell_type": "code",
      "source": [
        "GSMArena_MobileData=pd.DataFrame()\n",
        "GSMArena_MobileData['modelname']=pd.Series(modelname)\n",
        "GSMArena_MobileData['link']=pd.Series(link)\n",
        "GSMArena_MobileData['net2g']=pd.Series(net2g)\n",
        "GSMArena_MobileData['gprstext']=pd.Series(gprstext)\n",
        "GSMArena_MobileData['edge']=pd.Series(edge)\n",
        "GSMArena_MobileData['year']=pd.Series(year)\n",
        "GSMArena_MobileData['status']=pd.Series(status)\n",
        "GSMArena_MobileData['dimensions']=pd.Series(dimensions)\n",
        "GSMArena_MobileData['weight']=pd.Series(weight)\n",
        "GSMArena_MobileData['sim']=pd.Series(sim)\n",
        "GSMArena_MobileData['displaytype']=pd.Series(displaytype)\n",
        "GSMArena_MobileData['displaysize']=pd.Series(displaysize)\n",
        "GSMArena_MobileData['displayresolution']=pd.Series(displayresolution)\n",
        "GSMArena_MobileData['memoryslot']=pd.Series(memoryslot)\n",
        "GSMArena_MobileData['cam1modules']=pd.Series(cam1modules)\n",
        "GSMArena_MobileData['wlan']=pd.Series(wlan)\n",
        "GSMArena_MobileData['bluetooth']=pd.Series(bluetooth)\n",
        "GSMArena_MobileData['gps']=pd.Series(gps)\n",
        "GSMArena_MobileData['radio']=pd.Series(radio)\n",
        "GSMArena_MobileData['usb']=pd.Series(usb)\n",
        "GSMArena_MobileData['featuresother']=pd.Series(featuresother)\n",
        "GSMArena_MobileData['optionalother']=pd.Series(optionalother)\n",
        "GSMArena_MobileData['batdescription1']=pd.Series(batdescription1)\n",
        "GSMArena_MobileData['colors']=pd.Series(colors)\n",
        "GSMArena_MobileData"
      ],
      "execution_count": 179,
      "outputs": [
        {
          "output_type": "execute_result",
          "data": {
            "text/html": [
              "<div>\n",
              "<style scoped>\n",
              "    .dataframe tbody tr th:only-of-type {\n",
              "        vertical-align: middle;\n",
              "    }\n",
              "\n",
              "    .dataframe tbody tr th {\n",
              "        vertical-align: top;\n",
              "    }\n",
              "\n",
              "    .dataframe thead th {\n",
              "        text-align: right;\n",
              "    }\n",
              "</style>\n",
              "<table border=\"1\" class=\"dataframe\">\n",
              "  <thead>\n",
              "    <tr style=\"text-align: right;\">\n",
              "      <th></th>\n",
              "      <th>modelname</th>\n",
              "      <th>link</th>\n",
              "      <th>net2g</th>\n",
              "      <th>gprstext</th>\n",
              "      <th>edge</th>\n",
              "      <th>year</th>\n",
              "      <th>status</th>\n",
              "      <th>dimensions</th>\n",
              "      <th>weight</th>\n",
              "      <th>sim</th>\n",
              "      <th>...</th>\n",
              "      <th>cam1modules</th>\n",
              "      <th>wlan</th>\n",
              "      <th>bluetooth</th>\n",
              "      <th>gps</th>\n",
              "      <th>radio</th>\n",
              "      <th>usb</th>\n",
              "      <th>featuresother</th>\n",
              "      <th>optionalother</th>\n",
              "      <th>batdescription1</th>\n",
              "      <th>colors</th>\n",
              "    </tr>\n",
              "  </thead>\n",
              "  <tbody>\n",
              "    <tr>\n",
              "      <th>0</th>\n",
              "      <td>Ericsson GS 337</td>\n",
              "      <td>GSM 900</td>\n",
              "      <td>NaN</td>\n",
              "      <td>No</td>\n",
              "      <td>No</td>\n",
              "      <td>1995</td>\n",
              "      <td>Discontinued</td>\n",
              "      <td>130 x 49 x 24 mm (5.12 x 1.93 x 0.94 in)</td>\n",
              "      <td>193 g (6.81 oz)</td>\n",
              "      <td>Mini-SIM</td>\n",
              "      <td>...</td>\n",
              "      <td>No</td>\n",
              "      <td>No</td>\n",
              "      <td>No</td>\n",
              "      <td>No</td>\n",
              "      <td>No</td>\n",
              "      <td></td>\n",
              "      <td>NaN</td>\n",
              "      <td>NaN</td>\n",
              "      <td>NaN</td>\n",
              "      <td>NaN</td>\n",
              "    </tr>\n",
              "  </tbody>\n",
              "</table>\n",
              "<p>1 rows × 24 columns</p>\n",
              "</div>"
            ],
            "text/plain": [
              "         modelname      link  net2g gprstext edge  year        status  \\\n",
              "0  Ericsson GS 337  GSM 900     NaN       No   No  1995  Discontinued   \n",
              "\n",
              "                                 dimensions           weight       sim  ...    \\\n",
              "0  130 x 49 x 24 mm (5.12 x 1.93 x 0.94 in)  193 g (6.81 oz)  Mini-SIM  ...     \n",
              "\n",
              "  cam1modules wlan bluetooth gps radio usb featuresother optionalother  \\\n",
              "0          No   No        No  No    No               NaN           NaN   \n",
              "\n",
              "  batdescription1 colors  \n",
              "0             NaN    NaN  \n",
              "\n",
              "[1 rows x 24 columns]"
            ]
          },
          "metadata": {
            "tags": []
          },
          "execution_count": 179
        }
      ]
    },
    {
      "metadata": {
        "id": "XKtD8nCWoz_q",
        "colab_type": "code",
        "colab": {
          "autoexec": {
            "startup": false,
            "wait_interval": 0
          },
          "base_uri": "https://localhost:8080/",
          "height": 167
        },
        "outputId": "7327a237-ebd4-4959-d3cf-9bdf145240b6",
        "executionInfo": {
          "status": "ok",
          "timestamp": 1532879150026,
          "user_tz": -330,
          "elapsed": 914,
          "user": {
            "displayName": "Rajesh Chukka",
            "photoUrl": "//lh6.googleusercontent.com/-hlgl83Z67p0/AAAAAAAAAAI/AAAAAAAAAMI/-xPDUeCBKZA/s50-c-k-no/photo.jpg",
            "userId": "113199764277224827811"
          }
        }
      },
      "cell_type": "code",
      "source": [
        "df=pd.DataFrame()\n",
        "d[a=pd.Series(modelname)\n",
        "b=pd.Series(link)\n",
        "c=pd.Series(net2g)\n",
        "d=pd.Series(gprstext)\n",
        "e=pd.Series(edge)\n",
        "f=pd.Series(year)\n",
        "g=pd.Series(status)\n",
        "h=pd.Series(dimensions)\n",
        "i=pd.Series(weight)\n",
        "j=pd.Series(sim)\n",
        "k=pd.Series(displaytype)\n",
        "l=pd.Series(displaysize)\n",
        "m=pd.Series(displayresolution)\n",
        "n=pd.Series(memoryslot)\n",
        "o=pd.Series(cam1modules)\n",
        "p=pd.Series(wlan)\n",
        "q=pd.Series(bluetooth)\n",
        "r=pd.Series(gps)\n",
        "s=pd.Series(radio)\n",
        "t=pd.Series(usb)\n",
        "u=pd.Series(featuresother)\n",
        "v=pd.Series(optionalother)\n",
        "w=pd.Series(batdescription1)\n",
        "x=pd.Series(colors)"
      ],
      "execution_count": 132,
      "outputs": [
        {
          "output_type": "execute_result",
          "data": {
            "text/html": [
              "<div>\n",
              "<style scoped>\n",
              "    .dataframe tbody tr th:only-of-type {\n",
              "        vertical-align: middle;\n",
              "    }\n",
              "\n",
              "    .dataframe tbody tr th {\n",
              "        vertical-align: top;\n",
              "    }\n",
              "\n",
              "    .dataframe thead th {\n",
              "        text-align: right;\n",
              "    }\n",
              "</style>\n",
              "<table border=\"1\" class=\"dataframe\">\n",
              "  <thead>\n",
              "    <tr style=\"text-align: right;\">\n",
              "      <th></th>\n",
              "      <th>d</th>\n",
              "    </tr>\n",
              "  </thead>\n",
              "  <tbody>\n",
              "    <tr>\n",
              "      <th>0</th>\n",
              "      <td>Nokia 3210</td>\n",
              "    </tr>\n",
              "    <tr>\n",
              "      <th>1</th>\n",
              "      <td>Nokia 5110</td>\n",
              "    </tr>\n",
              "    <tr>\n",
              "      <th>2</th>\n",
              "      <td>Nokia 6110</td>\n",
              "    </tr>\n",
              "    <tr>\n",
              "      <th>3</th>\n",
              "      <td>Nokia 6130</td>\n",
              "    </tr>\n",
              "  </tbody>\n",
              "</table>\n",
              "</div>"
            ],
            "text/plain": [
              "            d\n",
              "0  Nokia 3210\n",
              "1  Nokia 5110\n",
              "2  Nokia 6110\n",
              "3  Nokia 6130"
            ]
          },
          "metadata": {
            "tags": []
          },
          "execution_count": 132
        }
      ]
    },
    {
      "metadata": {
        "id": "XJB3TabSZfj2",
        "colab_type": "code",
        "colab": {
          "autoexec": {
            "startup": false,
            "wait_interval": 0
          },
          "base_uri": "https://localhost:8080/",
          "height": 707
        },
        "outputId": "9b108fe8-dd15-4288-b611-d91513220b13",
        "executionInfo": {
          "status": "ok",
          "timestamp": 1532878695379,
          "user_tz": -330,
          "elapsed": 918,
          "user": {
            "displayName": "Rajesh Chukka",
            "photoUrl": "//lh6.googleusercontent.com/-hlgl83Z67p0/AAAAAAAAAAI/AAAAAAAAAMI/-xPDUeCBKZA/s50-c-k-no/photo.jpg",
            "userId": "113199764277224827811"
          }
        }
      },
      "cell_type": "code",
      "source": [
        "import csv\n",
        "from itertools import zip_longest\n",
        "#data= [modelname,link,net2g,gprstext,edge,year,status,dimensions,weight,sim,displaytype,displaysize,displayresolution,memoryslot,cam1modules,wlan,bluetooth,gps,radio,usb,featuresother,optionalother,batdescription1,colors]\n",
        "data=[a,b,c,d,e,f,g,h,i,j,k,l,m,n,o,p,q,r,s,t,u,v,w,x]\n",
        "export_data = zip_longest(*data, fillvalue = '')\n",
        "with open(u\"D:\\output.csv\", \"w\",encoding=\"ISO-8859-1\", newline='') as f:\n",
        "    writer = csv.writer(f)\n",
        "    #writer.writerows((\"modelname\",\"link\",\"net2g\",\"gprstext\",\"edge\",\"year\",\"status\",\"dimensions\",\"weight\",\"sim\",\"displaytype\",\"displaysize\",\"displayresolution\",\"memoryslot\",\"cam1modules\",\"wlan\",\"bluetooth\",\"gps\",\"radio\",\"usb\",\"featuresother\",\"optionalother\",\"batdescription1\",\"colors\"))\n",
        "    writer.writerows(data)\n",
        "    \n",
        "df=pd.read_csv(u\"D:\\output.csv\",error_bad_lines=False)\n",
        "df"
      ],
      "execution_count": 122,
      "outputs": [
        {
          "output_type": "execute_result",
          "data": {
            "text/html": [
              "<div>\n",
              "<style scoped>\n",
              "    .dataframe tbody tr th:only-of-type {\n",
              "        vertical-align: middle;\n",
              "    }\n",
              "\n",
              "    .dataframe tbody tr th {\n",
              "        vertical-align: top;\n",
              "    }\n",
              "\n",
              "    .dataframe thead th {\n",
              "        text-align: right;\n",
              "    }\n",
              "</style>\n",
              "<table border=\"1\" class=\"dataframe\">\n",
              "  <thead>\n",
              "    <tr style=\"text-align: right;\">\n",
              "      <th></th>\n",
              "      <th>Nokia 3210</th>\n",
              "      <th>Nokia 5110</th>\n",
              "      <th>Nokia 6110</th>\n",
              "      <th>Nokia 6130</th>\n",
              "    </tr>\n",
              "  </thead>\n",
              "  <tbody>\n",
              "    <tr>\n",
              "      <th>0</th>\n",
              "      <td>GSM 900 / 1800</td>\n",
              "      <td>GSM 900</td>\n",
              "      <td>GSM 900</td>\n",
              "      <td>GSM 1800</td>\n",
              "    </tr>\n",
              "    <tr>\n",
              "      <th>1</th>\n",
              "      <td>No</td>\n",
              "      <td>No</td>\n",
              "      <td>No</td>\n",
              "      <td>No</td>\n",
              "    </tr>\n",
              "    <tr>\n",
              "      <th>2</th>\n",
              "      <td>No</td>\n",
              "      <td>No</td>\n",
              "      <td>No</td>\n",
              "      <td>No</td>\n",
              "    </tr>\n",
              "    <tr>\n",
              "      <th>3</th>\n",
              "      <td>1999</td>\n",
              "      <td>1998</td>\n",
              "      <td>1998</td>\n",
              "      <td>1998</td>\n",
              "    </tr>\n",
              "    <tr>\n",
              "      <th>4</th>\n",
              "      <td>Discontinued</td>\n",
              "      <td>Discontinued</td>\n",
              "      <td>Discontinued</td>\n",
              "      <td>Discontinued</td>\n",
              "    </tr>\n",
              "    <tr>\n",
              "      <th>5</th>\n",
              "      <td>123.8 x 50.5 x 16.7-22.5 mm</td>\n",
              "      <td>132 x 47.5 x 31 mm, 143 cc (5.20 x 1.87 x 1.22...</td>\n",
              "      <td>130 x 47 x 28 mm, 130 cc (5.12 x 1.85 x 1.10 in)</td>\n",
              "      <td>141 x 48 x 25 mm (5.55 x 1.89 x 0.98 in)</td>\n",
              "    </tr>\n",
              "    <tr>\n",
              "      <th>6</th>\n",
              "      <td>151 g (5.33 oz)</td>\n",
              "      <td>170 g (6.00 oz)</td>\n",
              "      <td>137 g (4.83 oz)</td>\n",
              "      <td>152 g (5.36 oz)</td>\n",
              "    </tr>\n",
              "    <tr>\n",
              "      <th>7</th>\n",
              "      <td>Mini-SIM</td>\n",
              "      <td>Mini-SIM</td>\n",
              "      <td>Mini-SIM</td>\n",
              "      <td>Mini-SIM</td>\n",
              "    </tr>\n",
              "    <tr>\n",
              "      <th>8</th>\n",
              "      <td>Monochrome graphic</td>\n",
              "      <td>Monochrome graphic</td>\n",
              "      <td>Monochrome graphic</td>\n",
              "      <td>Monochrome graphic</td>\n",
              "    </tr>\n",
              "    <tr>\n",
              "      <th>9</th>\n",
              "      <td>NaN</td>\n",
              "      <td>NaN</td>\n",
              "      <td>NaN</td>\n",
              "      <td>NaN</td>\n",
              "    </tr>\n",
              "    <tr>\n",
              "      <th>10</th>\n",
              "      <td>5 lines</td>\n",
              "      <td>5 lines</td>\n",
              "      <td>5 lines</td>\n",
              "      <td>5 lines</td>\n",
              "    </tr>\n",
              "    <tr>\n",
              "      <th>11</th>\n",
              "      <td>No</td>\n",
              "      <td>No</td>\n",
              "      <td>No</td>\n",
              "      <td>No</td>\n",
              "    </tr>\n",
              "    <tr>\n",
              "      <th>12</th>\n",
              "      <td>No</td>\n",
              "      <td>No</td>\n",
              "      <td>No</td>\n",
              "      <td>No</td>\n",
              "    </tr>\n",
              "    <tr>\n",
              "      <th>13</th>\n",
              "      <td>No</td>\n",
              "      <td>No</td>\n",
              "      <td>No</td>\n",
              "      <td>No</td>\n",
              "    </tr>\n",
              "    <tr>\n",
              "      <th>14</th>\n",
              "      <td>No</td>\n",
              "      <td>No</td>\n",
              "      <td>No</td>\n",
              "      <td>No</td>\n",
              "    </tr>\n",
              "    <tr>\n",
              "      <th>15</th>\n",
              "      <td>No</td>\n",
              "      <td>No</td>\n",
              "      <td>No</td>\n",
              "      <td>No</td>\n",
              "    </tr>\n",
              "    <tr>\n",
              "      <th>16</th>\n",
              "      <td>No</td>\n",
              "      <td>No</td>\n",
              "      <td>No</td>\n",
              "      <td>No</td>\n",
              "    </tr>\n",
              "    <tr>\n",
              "      <th>17</th>\n",
              "      <td>NaN</td>\n",
              "      <td>NaN</td>\n",
              "      <td>NaN</td>\n",
              "      <td>NaN</td>\n",
              "    </tr>\n",
              "    <tr>\n",
              "      <th>18</th>\n",
              "      <td>- Predictive text input\\n- Smart messaging (Ov...</td>\n",
              "      <td>- Closed user group\\n</td>\n",
              "      <td>- Organizer</td>\n",
              "      <td>- Organizer</td>\n",
              "    </tr>\n",
              "    <tr>\n",
              "      <th>19</th>\n",
              "      <td>- 6 Ringing tone levels\\n- 10 Volume levels</td>\n",
              "      <td>- 6 Ringing tone levels \\n- 10 Volume levels</td>\n",
              "      <td>- 6 Ringing tone levels \\n- 10 Volume levels\\n...</td>\n",
              "      <td>- 6 Ringing tone levels \\n- 10 Volume levels\\n...</td>\n",
              "    </tr>\n",
              "    <tr>\n",
              "      <th>20</th>\n",
              "      <td>Removable Li-Ion battery</td>\n",
              "      <td>Removable Li-Po 600 mAh battery</td>\n",
              "      <td>Removable Li-Po 600 mAh battery</td>\n",
              "      <td>Removable Li-Po 600 mAh battery (BPS-1)</td>\n",
              "    </tr>\n",
              "    <tr>\n",
              "      <th>21</th>\n",
              "      <td>User exchangeable front and back covers</td>\n",
              "      <td>Xpress-On covers, 4 basic, 7 metallic</td>\n",
              "      <td>2</td>\n",
              "      <td>2</td>\n",
              "    </tr>\n",
              "  </tbody>\n",
              "</table>\n",
              "</div>"
            ],
            "text/plain": [
              "                                           Nokia 3210  \\\n",
              "0                                     GSM 900 / 1800    \n",
              "1                                                  No   \n",
              "2                                                  No   \n",
              "3                                                1999   \n",
              "4                                        Discontinued   \n",
              "5                         123.8 x 50.5 x 16.7-22.5 mm   \n",
              "6                                     151 g (5.33 oz)   \n",
              "7                                            Mini-SIM   \n",
              "8                                  Monochrome graphic   \n",
              "9                                                 NaN   \n",
              "10                                            5 lines   \n",
              "11                                                 No   \n",
              "12                                                 No   \n",
              "13                                                 No   \n",
              "14                                                 No   \n",
              "15                                                 No   \n",
              "16                                                 No   \n",
              "17                                                NaN   \n",
              "18  - Predictive text input\\n- Smart messaging (Ov...   \n",
              "19        - 6 Ringing tone levels\\n- 10 Volume levels   \n",
              "20                           Removable Li-Ion battery   \n",
              "21            User exchangeable front and back covers   \n",
              "\n",
              "                                           Nokia 5110  \\\n",
              "0                                            GSM 900    \n",
              "1                                                  No   \n",
              "2                                                  No   \n",
              "3                                                1998   \n",
              "4                                        Discontinued   \n",
              "5   132 x 47.5 x 31 mm, 143 cc (5.20 x 1.87 x 1.22...   \n",
              "6                                     170 g (6.00 oz)   \n",
              "7                                            Mini-SIM   \n",
              "8                                  Monochrome graphic   \n",
              "9                                                 NaN   \n",
              "10                                            5 lines   \n",
              "11                                                 No   \n",
              "12                                                 No   \n",
              "13                                                 No   \n",
              "14                                                 No   \n",
              "15                                                 No   \n",
              "16                                                 No   \n",
              "17                                                NaN   \n",
              "18                              - Closed user group\\n   \n",
              "19       - 6 Ringing tone levels \\n- 10 Volume levels   \n",
              "20                    Removable Li-Po 600 mAh battery   \n",
              "21              Xpress-On covers, 4 basic, 7 metallic   \n",
              "\n",
              "                                           Nokia 6110  \\\n",
              "0                                            GSM 900    \n",
              "1                                                  No   \n",
              "2                                                  No   \n",
              "3                                                1998   \n",
              "4                                        Discontinued   \n",
              "5    130 x 47 x 28 mm, 130 cc (5.12 x 1.85 x 1.10 in)   \n",
              "6                                     137 g (4.83 oz)   \n",
              "7                                            Mini-SIM   \n",
              "8                                  Monochrome graphic   \n",
              "9                                                 NaN   \n",
              "10                                            5 lines   \n",
              "11                                                 No   \n",
              "12                                                 No   \n",
              "13                                                 No   \n",
              "14                                                 No   \n",
              "15                                                 No   \n",
              "16                                                 No   \n",
              "17                                                NaN   \n",
              "18                                        - Organizer   \n",
              "19  - 6 Ringing tone levels \\n- 10 Volume levels\\n...   \n",
              "20                    Removable Li-Po 600 mAh battery   \n",
              "21                                                  2   \n",
              "\n",
              "                                           Nokia 6130  \n",
              "0                                           GSM 1800   \n",
              "1                                                  No  \n",
              "2                                                  No  \n",
              "3                                                1998  \n",
              "4                                        Discontinued  \n",
              "5            141 x 48 x 25 mm (5.55 x 1.89 x 0.98 in)  \n",
              "6                                     152 g (5.36 oz)  \n",
              "7                                            Mini-SIM  \n",
              "8                                  Monochrome graphic  \n",
              "9                                                 NaN  \n",
              "10                                            5 lines  \n",
              "11                                                 No  \n",
              "12                                                 No  \n",
              "13                                                 No  \n",
              "14                                                 No  \n",
              "15                                                 No  \n",
              "16                                                 No  \n",
              "17                                                NaN  \n",
              "18                                        - Organizer  \n",
              "19  - 6 Ringing tone levels \\n- 10 Volume levels\\n...  \n",
              "20            Removable Li-Po 600 mAh battery (BPS-1)  \n",
              "21                                                  2  "
            ]
          },
          "metadata": {
            "tags": []
          },
          "execution_count": 122
        }
      ]
    },
    {
      "metadata": {
        "id": "t0vCDebST0Hq",
        "colab_type": "code",
        "colab": {
          "autoexec": {
            "startup": false,
            "wait_interval": 0
          }
        }
      },
      "cell_type": "code",
      "source": [
        "GSMArena_MobileData=pd.DataFrame()\n",
        "try:\n",
        "GSMArena_MobileData['modelname']=pd.Series(modelname).values\n",
        "GSMArena_MobileData['link']=pd.Series(link).values\n",
        "GSMArena_MobileData['net2g']=pd.Series(net2g).values\n",
        "GSMArena_MobileData['gprstext']=pd.Series(gprstext).values\n",
        "GSMArena_MobileData['edge']=pd.Series(edge).values\n",
        "GSMArena_MobileData['year']=pd.Series(year).values\n",
        "GSMArena_MobileData['status']=pd.Series(status).values\n",
        "GSMArena_MobileData['dimensions']=pd.Series(dimensions).values\n",
        "GSMArena_MobileData['weight']=pd.Series(weight).values\n",
        "GSMArena_MobileData['sim']=pd.Series(sim).values\n",
        "GSMArena_MobileData['displaytype']=pd.Series(displaytype).values\n",
        "GSMArena_MobileData['displaysize']=pd.Series(displaysize).values\n",
        "GSMArena_MobileData['displayresolution']=pd.Series(displayresolution).values\n",
        "GSMArena_MobileData['memoryslot']=pd.Series(memoryslot).values\n",
        "GSMArena_MobileData['cam1modules']=pd.Series(cam1modules).values\n",
        "GSMArena_MobileData['wlan']=pd.Series(wlan).values\n",
        "GSMArena_MobileData['bluetooth']=pd.Series(bluetooth).values\n",
        "GSMArena_MobileData['gps']=pd.Series(gps).values\n",
        "GSMArena_MobileData['radio']=pd.Series(radio).values\n",
        "GSMArena_MobileData['usb']=pd.Series(usb).values\n",
        "GSMArena_MobileData['featuresother']=pd.Series(featuresother).values\n",
        "GSMArena_MobileData['optionalother']=pd.Series(optionalother).values\n",
        "GSMArena_MobileData['batdescription1']=pd.Series(batdescription1).values\n",
        "GSMArena_MobileData['colors']=pd.Series(colors).values\n",
        "except ValueError:\n",
        "    pass\n",
        "\n"
      ],
      "execution_count": 0,
      "outputs": []
    },
    {
      "metadata": {
        "id": "TI5M2s2zWNCe",
        "colab_type": "code",
        "colab": {
          "autoexec": {
            "startup": false,
            "wait_interval": 0
          },
          "base_uri": "https://localhost:8080/",
          "height": 77
        },
        "outputId": "222e7e70-f066-403b-9592-df924a08df65",
        "executionInfo": {
          "status": "ok",
          "timestamp": 1532873509062,
          "user_tz": -330,
          "elapsed": 888,
          "user": {
            "displayName": "Rajesh Chukka",
            "photoUrl": "//lh6.googleusercontent.com/-hlgl83Z67p0/AAAAAAAAAAI/AAAAAAAAAMI/-xPDUeCBKZA/s50-c-k-no/photo.jpg",
            "userId": "113199764277224827811"
          }
        }
      },
      "cell_type": "code",
      "source": [
        "GSMArena_MobileData"
      ],
      "execution_count": 90,
      "outputs": [
        {
          "output_type": "execute_result",
          "data": {
            "text/html": [
              "<div>\n",
              "<style scoped>\n",
              "    .dataframe tbody tr th:only-of-type {\n",
              "        vertical-align: middle;\n",
              "    }\n",
              "\n",
              "    .dataframe tbody tr th {\n",
              "        vertical-align: top;\n",
              "    }\n",
              "\n",
              "    .dataframe thead th {\n",
              "        text-align: right;\n",
              "    }\n",
              "</style>\n",
              "<table border=\"1\" class=\"dataframe\">\n",
              "  <thead>\n",
              "    <tr style=\"text-align: right;\">\n",
              "      <th></th>\n",
              "      <th>modelname</th>\n",
              "      <th>link</th>\n",
              "    </tr>\n",
              "  </thead>\n",
              "  <tbody>\n",
              "    <tr>\n",
              "      <th>0</th>\n",
              "      <td>Nokia 3210</td>\n",
              "      <td>GSM 900 / 1800</td>\n",
              "    </tr>\n",
              "  </tbody>\n",
              "</table>\n",
              "</div>"
            ],
            "text/plain": [
              "    modelname             link\n",
              "0  Nokia 3210  GSM 900 / 1800 "
            ]
          },
          "metadata": {
            "tags": []
          },
          "execution_count": 90
        }
      ]
    },
    {
      "metadata": {
        "id": "C-0vajqQQpoB",
        "colab_type": "code",
        "colab": {
          "autoexec": {
            "startup": false,
            "wait_interval": 0
          },
          "base_uri": "https://localhost:8080/",
          "height": 33
        },
        "outputId": "7c7ed1c4-dd0e-4792-90be-7b228e28f676",
        "executionInfo": {
          "status": "ok",
          "timestamp": 1532871812378,
          "user_tz": -330,
          "elapsed": 908,
          "user": {
            "displayName": "Rajesh Chukka",
            "photoUrl": "//lh6.googleusercontent.com/-hlgl83Z67p0/AAAAAAAAAAI/AAAAAAAAAMI/-xPDUeCBKZA/s50-c-k-no/photo.jpg",
            "userId": "113199764277224827811"
          }
        }
      },
      "cell_type": "code",
      "source": [
        "j=10\n",
        "\n",
        "print('https://www.gsmarena.com/acer_dx650-'+str(j)+'.php')\n",
        "#source = urllib.request.urlopen('https://www.gsmarena.com/acer_dx650-'+str(j)+'.php').read()"
      ],
      "execution_count": 75,
      "outputs": [
        {
          "output_type": "stream",
          "text": [
            "https://www.gsmarena.com/acer_dx650-10.php\n"
          ],
          "name": "stdout"
        }
      ]
    },
    {
      "metadata": {
        "id": "HlGE5o3296y6",
        "colab_type": "code",
        "colab": {
          "autoexec": {
            "startup": false,
            "wait_interval": 0
          },
          "base_uri": "https://localhost:8080/",
          "height": 130
        },
        "outputId": "d11fe902-52d3-4c99-ff1d-b7a012e0466d",
        "executionInfo": {
          "status": "error",
          "timestamp": 1532868821515,
          "user_tz": -330,
          "elapsed": 857,
          "user": {
            "displayName": "Rajesh Chukka",
            "photoUrl": "//lh6.googleusercontent.com/-hlgl83Z67p0/AAAAAAAAAAI/AAAAAAAAAMI/-xPDUeCBKZA/s50-c-k-no/photo.jpg",
            "userId": "113199764277224827811"
          }
        }
      },
      "cell_type": "code",
      "source": [
        "for i in range(10):"
      ],
      "execution_count": 29,
      "outputs": [
        {
          "output_type": "error",
          "ename": "SyntaxError",
          "evalue": "ignored",
          "traceback": [
            "\u001b[0;36m  File \u001b[0;32m\"<ipython-input-29-e61162350cc4>\"\u001b[0;36m, line \u001b[0;32m1\u001b[0m\n\u001b[0;31m    for i in range(10):\u001b[0m\n\u001b[0m                       ^\u001b[0m\n\u001b[0;31mSyntaxError\u001b[0m\u001b[0;31m:\u001b[0m unexpected EOF while parsing\n"
          ]
        }
      ]
    },
    {
      "metadata": {
        "id": "hwgHtnQNGf5M",
        "colab_type": "code",
        "colab": {
          "autoexec": {
            "startup": false,
            "wait_interval": 0
          },
          "base_uri": "https://localhost:8080/",
          "height": 33
        },
        "outputId": "a74fdd92-ed21-44aa-88a9-3530b3e7634a",
        "executionInfo": {
          "status": "ok",
          "timestamp": 1532875862945,
          "user_tz": -330,
          "elapsed": 612,
          "user": {
            "displayName": "Rajesh Chukka",
            "photoUrl": "//lh6.googleusercontent.com/-hlgl83Z67p0/AAAAAAAAAAI/AAAAAAAAAMI/-xPDUeCBKZA/s50-c-k-no/photo.jpg",
            "userId": "113199764277224827811"
          }
        }
      },
      "cell_type": "code",
      "source": [
        "from itertools import zip_longest\n",
        "print('he')"
      ],
      "execution_count": 100,
      "outputs": [
        {
          "output_type": "stream",
          "text": [
            "he\n"
          ],
          "name": "stdout"
        }
      ]
    },
    {
      "metadata": {
        "id": "fqDxOcMqhVGi",
        "colab_type": "code",
        "colab": {
          "autoexec": {
            "startup": false,
            "wait_interval": 0
          },
          "base_uri": "https://localhost:8080/",
          "height": 33
        },
        "outputId": "77de9c3f-0929-4bb2-97a0-f6630fa83972",
        "executionInfo": {
          "status": "ok",
          "timestamp": 1532876494096,
          "user_tz": -330,
          "elapsed": 890,
          "user": {
            "displayName": "Rajesh Chukka",
            "photoUrl": "//lh6.googleusercontent.com/-hlgl83Z67p0/AAAAAAAAAAI/AAAAAAAAAMI/-xPDUeCBKZA/s50-c-k-no/photo.jpg",
            "userId": "113199764277224827811"
          }
        }
      },
      "cell_type": "code",
      "source": [
        "print(modelname)"
      ],
      "execution_count": 103,
      "outputs": [
        {
          "output_type": "stream",
          "text": [
            "['Nokia 3210']\n"
          ],
          "name": "stdout"
        }
      ]
    },
    {
      "metadata": {
        "id": "UIUpQwvfjxE8",
        "colab_type": "code",
        "colab": {
          "autoexec": {
            "startup": false,
            "wait_interval": 0
          }
        }
      },
      "cell_type": "code",
      "source": [
        "from fake_useragent import UserAgent\n",
        "import requests\n",
        "\n",
        "for i in range(6,100)\n",
        "ua = UserAgent()\n",
        "print(ua.chrome)\n",
        "header = {'User-Agent':str(ua.chrome)}\n",
        "print(header)\n",
        "url = \"https://www.hybrid-analysis.com/recent-submissions?filter=file&sort=^timestamp\"\n",
        "htmlContent = requests.get(url, headers=header)\n",
        "print(htmlContent)"
      ],
      "execution_count": 0,
      "outputs": []
    }
  ]
}